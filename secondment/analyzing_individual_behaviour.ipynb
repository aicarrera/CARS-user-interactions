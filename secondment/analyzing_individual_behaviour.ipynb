{
 "cells": [
  {
   "cell_type": "code",
   "execution_count": 1,
   "metadata": {
    "collapsed": true,
    "ExecuteTime": {
     "end_time": "2023-06-02T09:00:51.289623Z",
     "start_time": "2023-06-02T09:00:37.143620400Z"
    }
   },
   "outputs": [],
   "source": [
    "import pandas as pd\n",
    "from sklearn.preprocessing import MinMaxScaler\n",
    "from sklearn.metrics.pairwise import cosine_similarity\n"
   ]
  },
  {
   "cell_type": "code",
   "execution_count": 3,
   "outputs": [],
   "source": [
    "df=pd.read_csv(\"filesToProcess/_resultType_withoutContext.csv\")\n",
    "#df=df.loc[~df.contextvalue.isin([\"1\",\"2\",\"3\",\"4\",\"5\",\"6\",\"0\"]),:]\n",
    "weightExplicit=0.30"
   ],
   "metadata": {
    "collapsed": false,
    "ExecuteTime": {
     "end_time": "2023-06-02T09:00:57.899928800Z",
     "start_time": "2023-06-02T09:00:57.867934100Z"
    }
   }
  },
  {
   "cell_type": "code",
   "execution_count": 4,
   "outputs": [],
   "source": [
    "def generate_vector(df, users):\n",
    "    df_users=df.loc[df.user.isin(users),:]\n",
    "    interactions=df_users.loc[df_users.type==\"INTERACTION\",[\"user\",\"service\",\"value\"]]\n",
    "    ratings=df_users.loc[df_users.type==\"RATING\",[\"user\",\"service\",\"value\"]]\n",
    "    #implicit rating\n",
    "    grouped_interactions= interactions.groupby([\"user\",\"service\"]).sum(\"value\").reset_index()\n",
    "    countInteractionsUser = grouped_interactions[[\"user\", \"value\"]].groupby(\"user\").sum().reset_index()\n",
    "    matrix_user_rating = grouped_interactions.pivot(index='user', columns='service', values='value').fillna(0)\n",
    "    matrix_implicit_rating = matrix_user_rating.div(countInteractionsUser.set_index('user')['value'], axis=0)\n",
    "     #explicit rating\n",
    "    grouped_ratings = ratings.groupby(['user', 'service']).agg({'value': ['mean']})\n",
    "    grouped_ratings.columns = grouped_ratings.columns.droplevel(level=0)\n",
    "    grouped_ratings = grouped_ratings.reset_index()\n",
    "    # Round the mean\n",
    "    grouped_ratings['mean'] = grouped_ratings['mean'].round()\n",
    "    # Normalize the values\n",
    "    scaler = MinMaxScaler(feature_range=(-0.01, 1))\n",
    "    grouped_ratings['value_normalized'] = scaler.fit_transform(grouped_ratings[['mean']])\n",
    "    matrix_explicit_rating = grouped_ratings.pivot(index='user', columns='service', values='value_normalized').fillna(0)\n",
    "    # reindex the matrices to ensure they have the same columns and rows\n",
    "    index_labels = matrix_implicit_rating.index.union(matrix_explicit_rating.index)\n",
    "    column_labels = matrix_implicit_rating.columns.union(matrix_explicit_rating.columns)\n",
    "    matrix_implicit_rating = matrix_implicit_rating.reindex(index=index_labels, columns=column_labels, fill_value=0)\n",
    "    matrix_explicit_rating = matrix_explicit_rating.reindex(index=index_labels, columns=column_labels, fill_value=0)\n",
    "    # Combine the implicit and explicit feedback matrices\n",
    "    combined_matrix = (weightExplicit * matrix_explicit_rating) + ((1-weightExplicit) * matrix_implicit_rating)\n",
    "    return combined_matrix"
   ],
   "metadata": {
    "collapsed": false,
    "ExecuteTime": {
     "end_time": "2023-06-02T09:01:04.272284Z",
     "start_time": "2023-06-02T09:01:04.245472600Z"
    }
   }
  },
  {
   "cell_type": "code",
   "execution_count": 5,
   "outputs": [
    {
     "name": "stdout",
     "output_type": "stream",
     "text": [
      "service   arabiar tea  capuccino  chocolate  chocolate_milk  cortado  \\\n",
      "user                                                                   \n",
      "I3RXU           0.000     0.0000   0.000000            0.00   0.0000   \n",
      "OCUnH          -0.003     0.1485   0.000000            0.14  -0.0030   \n",
      "gKUuuzg9        0.000     0.0000   0.130128            0.00   0.0000   \n",
      "ws0cho3         0.000     0.0000   0.000000            0.00   0.1485   \n",
      "\n",
      "service   decaffeinated  expresso  hazelnut_cappuccino  light_coffee  \\\n",
      "user                                                                   \n",
      "I3RXU             0.000  0.000000             0.000000      0.000000   \n",
      "OCUnH            -0.003  0.720000            -0.003000     -0.003000   \n",
      "gKUuuzg9          0.000  0.000000             0.000000      0.004487   \n",
      "ws0cho3          -0.003  0.466667             0.381833      0.000000   \n",
      "\n",
      "service   long_coffee  long_decaffeinated  milk_coffee  \n",
      "user                                                    \n",
      "I3RXU           0.000               0.000     1.000000  \n",
      "OCUnH          -0.003              -0.003     0.137000  \n",
      "gKUuuzg9        0.000               0.000     0.565385  \n",
      "ws0cho3         0.000               0.000     0.148500  \n"
     ]
    }
   ],
   "source": [
    "combined_matrix= generate_vector(df, [\"OCUnH\", \"I3RXU\",\"ws0cho3\", \"gKUuuzg9\"])\n",
    "print(combined_matrix)"
   ],
   "metadata": {
    "collapsed": false,
    "ExecuteTime": {
     "end_time": "2023-06-02T09:01:07.872127Z",
     "start_time": "2023-06-02T09:01:07.809131Z"
    }
   }
  },
  {
   "cell_type": "code",
   "execution_count": 87,
   "outputs": [
    {
     "name": "stdout",
     "output_type": "stream",
     "text": [
      "[[1.         0.18006309 0.97449224 0.23257472]\n",
      " [0.18006309 1.         0.17543959 0.73026063]\n",
      " [0.97449224 0.17543959 1.         0.22664226]\n",
      " [0.23257472 0.73026063 0.22664226 1.        ]]\n"
     ]
    }
   ],
   "source": [
    "# Step 1: Calculate User Similarity\n",
    "user_similarity = cosine_similarity(combined_matrix)\n",
    "print(user_similarity)"
   ],
   "metadata": {
    "collapsed": false,
    "ExecuteTime": {
     "end_time": "2023-05-15T13:59:39.420280200Z",
     "start_time": "2023-05-15T13:59:39.403410300Z"
    }
   }
  },
  {
   "cell_type": "code",
   "execution_count": 88,
   "outputs": [
    {
     "name": "stdout",
     "output_type": "stream",
     "text": [
      "[1 3 0]\n"
     ]
    }
   ],
   "source": [
    "# Step 2: Find Similar Users\n",
    "target_user = 'OCUnH'\n",
    "k=3\n",
    "target_user_index = combined_matrix.index.get_loc(target_user)\n",
    "k_similar_users_indices = user_similarity[target_user_index].argsort()[::-1][:k]\n",
    "print(k_similar_users_indices)\n"
   ],
   "metadata": {
    "collapsed": false,
    "ExecuteTime": {
     "end_time": "2023-05-15T13:59:43.698652300Z",
     "start_time": "2023-05-15T13:59:43.658406600Z"
    }
   }
  },
  {
   "cell_type": "code",
   "execution_count": 125,
   "outputs": [
    {
     "name": "stdout",
     "output_type": "stream",
     "text": [
      "[[1.11022302e-16 2.69739365e-01 8.19936909e-01]] [[1 3 0]]\n"
     ]
    }
   ],
   "source": [
    "from sklearn.neighbors import NearestNeighbors\n",
    "k = 3  # Set the number of nearest neighbors\n",
    "knn = NearestNeighbors(n_neighbors=k, metric='cosine', algorithm=\"brute\")\n",
    "knn.fit(combined_matrix)\n",
    "user_index = \"OCUnH\"  # Index of the target user in the combined_matrix\n",
    "\n",
    "distances, indices = knn.kneighbors(combined_matrix.loc[combined_matrix.index.get_level_values(\"user\") ==user_index , :])\n",
    "print(distances, indices)"
   ],
   "metadata": {
    "collapsed": false,
    "ExecuteTime": {
     "end_time": "2023-05-15T19:10:53.892824300Z",
     "start_time": "2023-05-15T19:10:53.818827900Z"
    }
   }
  },
  {
   "cell_type": "code",
   "execution_count": 126,
   "outputs": [
    {
     "name": "stdout",
     "output_type": "stream",
     "text": [
      "service  arabiar tea  capuccino  chocolate  chocolate_milk  cortado  \\\n",
      "user                                                                  \n",
      "OCUnH         -0.003     0.1485        0.0            0.14  -0.0030   \n",
      "ws0cho3        0.000     0.0000        0.0            0.00   0.1485   \n",
      "I3RXU          0.000     0.0000        0.0            0.00   0.0000   \n",
      "\n",
      "service  decaffeinated  expresso  hazelnut_cappuccino  light_coffee  \\\n",
      "user                                                                  \n",
      "OCUnH           -0.003  0.720000            -0.003000        -0.003   \n",
      "ws0cho3         -0.003  0.466667             0.381833         0.000   \n",
      "I3RXU            0.000  0.000000             0.000000         0.000   \n",
      "\n",
      "service  long_coffee  long_decaffeinated  milk_coffee  \n",
      "user                                                   \n",
      "OCUnH         -0.003              -0.003       0.1370  \n",
      "ws0cho3        0.000               0.000       0.1485  \n",
      "I3RXU          0.000               0.000       1.0000  \n"
     ]
    }
   ],
   "source": [
    "# Retrieve the recommendations from all services, including those already seen\n",
    "neighbor_ratings = combined_matrix.iloc[indices.flatten()]\n",
    "print(neighbor_ratings)\n"
   ],
   "metadata": {
    "collapsed": false,
    "ExecuteTime": {
     "end_time": "2023-05-15T19:10:58.379833500Z",
     "start_time": "2023-05-15T19:10:58.301823800Z"
    }
   }
  },
  {
   "cell_type": "code",
   "execution_count": 121,
   "outputs": [
    {
     "name": "stdout",
     "output_type": "stream",
     "text": [
      "service\n",
      "expresso               0.395556\n",
      "milk_coffee            0.283628\n",
      "hazelnut_cappuccino    0.126278\n",
      "capuccino              0.049500\n",
      "cortado                0.048500\n",
      "chocolate_milk         0.046667\n",
      "chocolate              0.043376\n",
      "light_coffee           0.000496\n",
      "long_decaffeinated    -0.001000\n",
      "long_coffee           -0.001000\n",
      "arabiar tea           -0.001000\n",
      "decaffeinated         -0.002000\n",
      "dtype: float64\n"
     ]
    }
   ],
   "source": [
    "recommendations = neighbor_ratings.mean(axis=0)\n",
    "# Sort the recommendations in descending order\n",
    "sorted_indices = recommendations.argsort()[::-1]\n",
    "sorted_recommendations = recommendations[sorted_indices]\n",
    "print(sorted_recommendations)\n",
    "# Retrieve the service names corresponding to the sorted indices\n",
    "column_labels = combined_matrix.columns\n",
    "service_names = column_labels[sorted_indices]\n",
    "\n",
    "# Return the recommended services\n",
    "recommended_services = list(zip(service_names, sorted_recommendations))"
   ],
   "metadata": {
    "collapsed": false,
    "ExecuteTime": {
     "end_time": "2023-05-15T15:26:35.955909100Z",
     "start_time": "2023-05-15T15:26:35.927901600Z"
    }
   }
  },
  {
   "cell_type": "code",
   "execution_count": null,
   "outputs": [],
   "source": [],
   "metadata": {
    "collapsed": false
   }
  }
 ],
 "metadata": {
  "kernelspec": {
   "display_name": "Python 3",
   "language": "python",
   "name": "python3"
  },
  "language_info": {
   "codemirror_mode": {
    "name": "ipython",
    "version": 2
   },
   "file_extension": ".py",
   "mimetype": "text/x-python",
   "name": "python",
   "nbconvert_exporter": "python",
   "pygments_lexer": "ipython2",
   "version": "2.7.6"
  }
 },
 "nbformat": 4,
 "nbformat_minor": 0
}
